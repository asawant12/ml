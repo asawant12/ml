{
 "cells": [
  {
   "cell_type": "code",
   "execution_count": 37,
   "id": "d566bb99-6808-4976-8476-ed05b7941b80",
   "metadata": {},
   "outputs": [
    {
     "data": {
      "text/plain": [
       "700"
      ]
     },
     "execution_count": 37,
     "metadata": {},
     "output_type": "execute_result"
    }
   ],
   "source": [
    "import pandas as pd\n",
    "df = pd.read_csv('../../customer.csv')\n",
    "#for col in ('Review_Type', 'Rating_Value', 'Rating_Location', 'Rating_Sleep_Quality' , 'Rating_Rooms' ,'Rating_Cleanliness' ,'Rating_Service'):\n",
    "df = df[df[\"Review_Type\"].notna()] # remove any NaN values as it blows up serialization\n",
    "data = df.sample(700).to_dict('records') # Get only 700 records. More records will make it slower to index\n",
    "len(data)"
   ]
  },
  {
   "cell_type": "code",
   "execution_count": 38,
   "id": "af8bce2c-e123-498a-a5f2-cefffd17fc74",
   "metadata": {},
   "outputs": [],
   "source": [
    "from qdrant_client import models, QdrantClient\n",
    "from sentence_transformers import SentenceTransformer"
   ]
  },
  {
   "cell_type": "code",
   "execution_count": 39,
   "id": "2b0e4be5-7518-4458-bf47-6913ef9a72a9",
   "metadata": {},
   "outputs": [],
   "source": [
    "encoder = SentenceTransformer('all-MiniLM-L6-v2') # Model to create embeddings"
   ]
  },
  {
   "cell_type": "code",
   "execution_count": 40,
   "id": "5efa031d-b18a-4db1-9c34-9989a15c822b",
   "metadata": {},
   "outputs": [],
   "source": [
    "# create the vector database client\n",
    "qdrant = QdrantClient(\":memory:\") # Create in-memory Qdrant instance"
   ]
  },
  {
   "cell_type": "code",
   "execution_count": 41,
   "id": "6c03be93-a076-425e-8df1-5a8b6367e558",
   "metadata": {},
   "outputs": [
    {
     "name": "stderr",
     "output_type": "stream",
     "text": [
      "/var/folders/3d/_ydbxm491_7fx4q3z8lsrmlh0000gn/T/ipykernel_13489/2108492005.py:2: DeprecationWarning: `recreate_collection` method is deprecated and will be removed in the future. Use `collection_exists` to check collection existence and `create_collection` instead.\n",
      "  qdrant.recreate_collection(\n"
     ]
    },
    {
     "data": {
      "text/plain": [
       "True"
      ]
     },
     "execution_count": 41,
     "metadata": {},
     "output_type": "execute_result"
    }
   ],
   "source": [
    "# Create collection to store wines\n",
    "qdrant.recreate_collection(\n",
    "    collection_name=\"top_hotels\",\n",
    "    vectors_config=models.VectorParams(\n",
    "        size=encoder.get_sentence_embedding_dimension(), # Vector size is defined by used model\n",
    "        distance=models.Distance.COSINE\n",
    "    )\n",
    ")"
   ]
  },
  {
   "cell_type": "code",
   "execution_count": 42,
   "id": "655d08af-758f-4338-b112-cf94045c7b0d",
   "metadata": {},
   "outputs": [],
   "source": [
    "# vectorize!\n",
    "qdrant.upload_points(\n",
    "    collection_name=\"top_hotels\",\n",
    "    points=[\n",
    "        models.PointStruct(\n",
    "            id=idx,\n",
    "            vector=encoder.encode(doc[\"Review_Type\"]).tolist(),\n",
    "            payload=doc,\n",
    "        ) for idx, doc in enumerate(data) # data is the variable holding all the wines\n",
    "    ]\n",
    ")"
   ]
  },
  {
   "cell_type": "code",
   "execution_count": 43,
   "id": "f23bc999",
   "metadata": {},
   "outputs": [],
   "source": [
    "user_prompt = \"Suggest me an amazing hotel from Chandigarh for couple\""
   ]
  },
  {
   "cell_type": "code",
   "execution_count": 44,
   "id": "68c9bff5-db38-4a98-b542-cd173af11b53",
   "metadata": {},
   "outputs": [
    {
     "name": "stdout",
     "output_type": "stream",
     "text": [
      "{'Hotel_Name_City': 'Hotel Shreenath Palace Jaisalmer', 'Review_Overall_Rating': 5, 'date_of_review': '8/20/2014', 'Month_of_Visit': 'Aug-14', 'Review_Type': 'as a couple', 'Rating_Value': 5.0, 'Rating_Location': 5.0, 'Rating_Sleep_Quality': nan, 'Rating_Rooms': nan, 'Rating_Cleanliness': nan, 'Rating_Service': 5.0} score: 0.17969600543227246\n",
      "{'Hotel_Name_City': 'Hotel Classic Chandigarh Chandigarh', 'Review_Overall_Rating': 3, 'date_of_review': '6/28/2014', 'Month_of_Visit': 'Jul-13', 'Review_Type': 'as a couple', 'Rating_Value': 4.0, 'Rating_Location': 3.0, 'Rating_Sleep_Quality': 4.0, 'Rating_Rooms': 4.0, 'Rating_Cleanliness': 4.0, 'Rating_Service': 3.0} score: 0.17969600543227246\n",
      "{'Hotel_Name_City': 'Mahua Bagh Resort Kashid', 'Review_Overall_Rating': 5, 'date_of_review': '3/25/2014', 'Month_of_Visit': 'Mar-14', 'Review_Type': 'as a couple', 'Rating_Value': 5.0, 'Rating_Location': 5.0, 'Rating_Sleep_Quality': 4.0, 'Rating_Rooms': 5.0, 'Rating_Cleanliness': 5.0, 'Rating_Service': 5.0} score: 0.17969600543227246\n"
     ]
    },
    {
     "name": "stderr",
     "output_type": "stream",
     "text": [
      "/var/folders/3d/_ydbxm491_7fx4q3z8lsrmlh0000gn/T/ipykernel_13489/150458509.py:3: DeprecationWarning: `search` method is deprecated and will be removed in the future. Use `query_points` instead.\n",
      "  hits = qdrant.search(\n"
     ]
    }
   ],
   "source": [
    "# Search time for awesome wines!\n",
    "\n",
    "hits = qdrant.search(\n",
    "    collection_name=\"top_hotels\",\n",
    "    query_vector=encoder.encode(user_prompt).tolist(),\n",
    "    limit=3\n",
    ")\n",
    "for hit in hits:\n",
    "  print(hit.payload, \"score:\", hit.score)"
   ]
  },
  {
   "cell_type": "code",
   "execution_count": 45,
   "id": "33243e5d-9e0d-4ec4-98e9-3fc56b8bdb10",
   "metadata": {},
   "outputs": [
    {
     "name": "stdout",
     "output_type": "stream",
     "text": [
      "[{'Hotel_Name_City': 'Hotel Shreenath Palace Jaisalmer', 'Review_Overall_Rating': 5, 'date_of_review': '8/20/2014', 'Month_of_Visit': 'Aug-14', 'Review_Type': 'as a couple', 'Rating_Value': 5.0, 'Rating_Location': 5.0, 'Rating_Sleep_Quality': nan, 'Rating_Rooms': nan, 'Rating_Cleanliness': nan, 'Rating_Service': 5.0}, {'Hotel_Name_City': 'Hotel Classic Chandigarh Chandigarh', 'Review_Overall_Rating': 3, 'date_of_review': '6/28/2014', 'Month_of_Visit': 'Jul-13', 'Review_Type': 'as a couple', 'Rating_Value': 4.0, 'Rating_Location': 3.0, 'Rating_Sleep_Quality': 4.0, 'Rating_Rooms': 4.0, 'Rating_Cleanliness': 4.0, 'Rating_Service': 3.0}, {'Hotel_Name_City': 'Mahua Bagh Resort Kashid', 'Review_Overall_Rating': 5, 'date_of_review': '3/25/2014', 'Month_of_Visit': 'Mar-14', 'Review_Type': 'as a couple', 'Rating_Value': 5.0, 'Rating_Location': 5.0, 'Rating_Sleep_Quality': 4.0, 'Rating_Rooms': 5.0, 'Rating_Cleanliness': 5.0, 'Rating_Service': 5.0}]\n"
     ]
    }
   ],
   "source": [
    "# define a variable to hold the search results\n",
    "search_results = [hit.payload for hit in hits]\n",
    "print(search_results)"
   ]
  },
  {
   "cell_type": "code",
   "execution_count": 46,
   "id": "e6c2b91e",
   "metadata": {},
   "outputs": [
    {
     "name": "stdout",
     "output_type": "stream",
     "text": [
      "Based on the provided information, I'd recommend the following hotels in Chandigarh for a couple's stay:\n",
      "\n",
      "**Top Recommendation:** **Hotel Shreenath Palace Jaisalmer**\n",
      "\n",
      "* Overall Rating: 5/5\n",
      "* Review Type: As a Couple\n",
      "* Room Quality: Excellent\n",
      "* Cleanliness: Very Good\n",
      "* Service: Exceptional\n",
      "\n",
      "This hotel has received an excellent review from a couple, with all aspects of their stay rated as 5/5. It's located in Chandigarh and offers a romantic atmosphere, perfect for couples.\n",
      "\n",
      "**Alternative Recommendation:** **Hotel Classic Chandigarh**\n",
      "\n",
      "* Overall Rating: 4/5\n",
      "* Review Type: As a Couple\n",
      "* Room Quality: Good\n",
      "* Cleanliness: Very Good\n",
      "* Service: Good\n",
      "\n",
      "This hotel has received a good review from a couple, with some areas for improvement. However, it still offers a comfortable stay and is located in the heart of Chandigarh.\n",
      "\n",
      "**Third Option:** **Mahua Bagh Resort Kashid**\n",
      "\n",
      "* Overall Rating: 5/5\n",
      "* Review Type: As a Couple\n",
      "* Room Quality: Excellent\n",
      "* Cleanliness: Very Good\n",
      "* Service: Exceptional\n",
      "\n",
      "This resort has received an excellent review from a couple, with all aspects of their stay rated as 5/5. It's located in Kashid, but I'm assuming it might be a good option for couples looking for a romantic getaway.\n",
      "\n",
      "Please note that these recommendations are based on the limited information provided and may not reflect the current situation or other factors that might affect your decision. I recommend verifying the hotels' current ratings and reviews to make an informed choice.\n"
     ]
    }
   ],
   "source": [
    "# Now time to connect to the local large language model\n",
    "from openai import OpenAI\n",
    "client = OpenAI(\n",
    "    base_url=\"http://127.0.0.1:11434/v1\", # \"http://<Your api-server IP>:port\"\n",
    "    api_key = \"sk-no-key-required\"\n",
    ")\n",
    "completion = client.chat.completions.create(\n",
    "    model=\"llama3.2:3b\",\n",
    "    messages=[\n",
    "        {\"role\": \"system\", \"content\": \"You are chatbot, a hotel specialist. Your top priority is to help guide users into selecting amazing hotel and guide them with their requests.\"},\n",
    "        {\"role\": \"user\", \"content\": \"Suggest me an amazing hotel from Chandigarh for couple with top rating\"},\n",
    "        {\"role\": \"assistant\", \"content\": str(search_results)},\n",
    "        {\"role\": \"user\", \"content\": \"Based on that information, what would you recommend?\"}\n",
    "    ],\n",
    "    max_tokens=500,  # Add max_tokens\n",
    "    temperature=0.7  # Add temperature for more creative responses\n",
    ")\n",
    "#print(f\"Full response: {completion}\")\n",
    "print(completion.choices[0].message.content)"
   ]
  },
  {
   "cell_type": "code",
   "execution_count": 20,
   "id": "1e268f18-b8fd-4c62-94d1-7a4ad55fe6f6",
   "metadata": {},
   "outputs": [
    {
     "name": "stdout",
     "output_type": "stream",
     "text": [
      "Considering the high ratings and reviews for these wines, I'd be happy to provide a recommendation.\n",
      "\n",
      "For an amazing Malbec wine from Argentina, I'd suggest:\n",
      "\n",
      "**Catena Zapata Nicasia Vineyard Malbec 2004**\n",
      "\n",
      "This wine is rated 96.0 by critics and has been praised for its complex aroma profile (pain grille, scorched earth, mineral, licorice, blueberry, and black cherry) and thick, opulent palate with layers of fruit, silky tannins, and a long, fruit-filled finish.\n",
      "\n",
      "Alternatively, if you prefer a more modern and affordable option:\n",
      "\n",
      "**Altos las Hormigas Gualtallary Malbec 2017**\n",
      "\n",
      "This wine is also highly rated (96.0) for its supple entry, dark berries, spices, firm fine-grain tannins, and thrilling freshness and balance.\n",
      "\n",
      "Both wines are excellent choices, but if you're looking for a more classic and elegant style, the Catena Zapata Nicasia Vineyard Malbec 2004 might be the better fit. If you prefer a more modern and approachable take on Malbec, the Altos las Hormigas Gualtallary Malbec 2017 is an excellent option.\n",
      "\n",
      "Which one do you think would suit your taste preferences?\n"
     ]
    }
   ],
   "source": [
    "from openai import OpenAI\n",
    "client = OpenAI(\n",
    "    base_url=\"http://127.0.0.1:11434/v1\", # \"http://<Your api-server IP>:port\"\n",
    "    api_key = \"sk-no-key-required\"\n",
    ")\n",
    "completion = client.chat.completions.create(\n",
    "    model=\"llama3.2:3b\",\n",
    "    messages=[\n",
    "        {\"role\": \"system\", \"content\": \"You are a wine specialist chatbot. Your top priority is to help guide users into selecting amazing wine and guide them with their requests.\"},\n",
    "        {\"role\": \"user\", \"content\": \"Suggest me an amazing Malbec wine from Argentina\"},\n",
    "        {\"role\": \"assistant\", \"content\": str(search_results)},\n",
    "        {\"role\": \"user\", \"content\": \"Based on that information, what would you recommend?\"}\n",
    "    ],\n",
    "    max_tokens=500,\n",
    "    temperature=0.7\n",
    ")\n",
    "\n",
    "print(completion.choices[0].message.content)"
   ]
  },
  {
   "cell_type": "code",
   "execution_count": null,
   "id": "ff4c32fd-2226-46a0-95c7-09d2dd7da8b5",
   "metadata": {},
   "outputs": [],
   "source": []
  }
 ],
 "metadata": {
  "kernelspec": {
   "display_name": "Python 3 (ipykernel)",
   "language": "python",
   "name": "python3"
  },
  "language_info": {
   "codemirror_mode": {
    "name": "ipython",
    "version": 3
   },
   "file_extension": ".py",
   "mimetype": "text/x-python",
   "name": "python",
   "nbconvert_exporter": "python",
   "pygments_lexer": "ipython3",
   "version": "3.11.13"
  }
 },
 "nbformat": 4,
 "nbformat_minor": 5
}
